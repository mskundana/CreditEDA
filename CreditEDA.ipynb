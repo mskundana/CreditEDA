{
 "cells": [
  {
   "cell_type": "code",
   "execution_count": 1,
   "id": "b66c187b-b262-4cd6-9f06-080aa2de1bb8",
   "metadata": {},
   "outputs": [],
   "source": [
    "#import the warnings\n",
    "import warnings\n",
    "warnings.filterwarnings(\"ignore\")"
   ]
  },
  {
   "cell_type": "code",
   "execution_count": 2,
   "id": "eabfa5b3-2349-481d-8319-908ca359987d",
   "metadata": {},
   "outputs": [],
   "source": [
    "#import the libraries\n",
    "import pandas as pd\n",
    "import numpy as np\n",
    "import matplotlib.pyplot as plt\n",
    "%matplotlib inline\n",
    "import seaborn as sns\n",
    "pd.set_option(\"display.max_columns\",None)"
   ]
  },
  {
   "cell_type": "markdown",
   "id": "f8e8a4bc-aa81-4f39-9a00-68b9be0be249",
   "metadata": {},
   "source": [
    "### Read application.csv"
   ]
  },
  {
   "cell_type": "code",
   "execution_count": 3,
   "id": "f0da3cd8-c113-427b-b8d7-ef5676d6cb8a",
   "metadata": {},
   "outputs": [
    {
     "ename": "FileNotFoundError",
     "evalue": "[Errno 2] No such file or directory: 'application_data.csv'",
     "output_type": "error",
     "traceback": [
      "\u001b[1;31m---------------------------------------------------------------------------\u001b[0m",
      "\u001b[1;31mFileNotFoundError\u001b[0m                         Traceback (most recent call last)",
      "Cell \u001b[1;32mIn[3], line 1\u001b[0m\n\u001b[1;32m----> 1\u001b[0m app_data\u001b[38;5;241m=\u001b[39m\u001b[43mpd\u001b[49m\u001b[38;5;241;43m.\u001b[39;49m\u001b[43mread_csv\u001b[49m\u001b[43m(\u001b[49m\u001b[38;5;124;43m\"\u001b[39;49m\u001b[38;5;124;43mapplication_data.csv\u001b[39;49m\u001b[38;5;124;43m\"\u001b[39;49m\u001b[43m)\u001b[49m\n\u001b[0;32m      2\u001b[0m app_data\n",
      "File \u001b[1;32m~\\AppData\\Local\\Programs\\Python\\Python312\\Lib\\site-packages\\pandas\\io\\parsers\\readers.py:1026\u001b[0m, in \u001b[0;36mread_csv\u001b[1;34m(filepath_or_buffer, sep, delimiter, header, names, index_col, usecols, dtype, engine, converters, true_values, false_values, skipinitialspace, skiprows, skipfooter, nrows, na_values, keep_default_na, na_filter, verbose, skip_blank_lines, parse_dates, infer_datetime_format, keep_date_col, date_parser, date_format, dayfirst, cache_dates, iterator, chunksize, compression, thousands, decimal, lineterminator, quotechar, quoting, doublequote, escapechar, comment, encoding, encoding_errors, dialect, on_bad_lines, delim_whitespace, low_memory, memory_map, float_precision, storage_options, dtype_backend)\u001b[0m\n\u001b[0;32m   1013\u001b[0m kwds_defaults \u001b[38;5;241m=\u001b[39m _refine_defaults_read(\n\u001b[0;32m   1014\u001b[0m     dialect,\n\u001b[0;32m   1015\u001b[0m     delimiter,\n\u001b[1;32m   (...)\u001b[0m\n\u001b[0;32m   1022\u001b[0m     dtype_backend\u001b[38;5;241m=\u001b[39mdtype_backend,\n\u001b[0;32m   1023\u001b[0m )\n\u001b[0;32m   1024\u001b[0m kwds\u001b[38;5;241m.\u001b[39mupdate(kwds_defaults)\n\u001b[1;32m-> 1026\u001b[0m \u001b[38;5;28;01mreturn\u001b[39;00m \u001b[43m_read\u001b[49m\u001b[43m(\u001b[49m\u001b[43mfilepath_or_buffer\u001b[49m\u001b[43m,\u001b[49m\u001b[43m \u001b[49m\u001b[43mkwds\u001b[49m\u001b[43m)\u001b[49m\n",
      "File \u001b[1;32m~\\AppData\\Local\\Programs\\Python\\Python312\\Lib\\site-packages\\pandas\\io\\parsers\\readers.py:620\u001b[0m, in \u001b[0;36m_read\u001b[1;34m(filepath_or_buffer, kwds)\u001b[0m\n\u001b[0;32m    617\u001b[0m _validate_names(kwds\u001b[38;5;241m.\u001b[39mget(\u001b[38;5;124m\"\u001b[39m\u001b[38;5;124mnames\u001b[39m\u001b[38;5;124m\"\u001b[39m, \u001b[38;5;28;01mNone\u001b[39;00m))\n\u001b[0;32m    619\u001b[0m \u001b[38;5;66;03m# Create the parser.\u001b[39;00m\n\u001b[1;32m--> 620\u001b[0m parser \u001b[38;5;241m=\u001b[39m \u001b[43mTextFileReader\u001b[49m\u001b[43m(\u001b[49m\u001b[43mfilepath_or_buffer\u001b[49m\u001b[43m,\u001b[49m\u001b[43m \u001b[49m\u001b[38;5;241;43m*\u001b[39;49m\u001b[38;5;241;43m*\u001b[39;49m\u001b[43mkwds\u001b[49m\u001b[43m)\u001b[49m\n\u001b[0;32m    622\u001b[0m \u001b[38;5;28;01mif\u001b[39;00m chunksize \u001b[38;5;129;01mor\u001b[39;00m iterator:\n\u001b[0;32m    623\u001b[0m     \u001b[38;5;28;01mreturn\u001b[39;00m parser\n",
      "File \u001b[1;32m~\\AppData\\Local\\Programs\\Python\\Python312\\Lib\\site-packages\\pandas\\io\\parsers\\readers.py:1620\u001b[0m, in \u001b[0;36mTextFileReader.__init__\u001b[1;34m(self, f, engine, **kwds)\u001b[0m\n\u001b[0;32m   1617\u001b[0m     \u001b[38;5;28mself\u001b[39m\u001b[38;5;241m.\u001b[39moptions[\u001b[38;5;124m\"\u001b[39m\u001b[38;5;124mhas_index_names\u001b[39m\u001b[38;5;124m\"\u001b[39m] \u001b[38;5;241m=\u001b[39m kwds[\u001b[38;5;124m\"\u001b[39m\u001b[38;5;124mhas_index_names\u001b[39m\u001b[38;5;124m\"\u001b[39m]\n\u001b[0;32m   1619\u001b[0m \u001b[38;5;28mself\u001b[39m\u001b[38;5;241m.\u001b[39mhandles: IOHandles \u001b[38;5;241m|\u001b[39m \u001b[38;5;28;01mNone\u001b[39;00m \u001b[38;5;241m=\u001b[39m \u001b[38;5;28;01mNone\u001b[39;00m\n\u001b[1;32m-> 1620\u001b[0m \u001b[38;5;28mself\u001b[39m\u001b[38;5;241m.\u001b[39m_engine \u001b[38;5;241m=\u001b[39m \u001b[38;5;28;43mself\u001b[39;49m\u001b[38;5;241;43m.\u001b[39;49m\u001b[43m_make_engine\u001b[49m\u001b[43m(\u001b[49m\u001b[43mf\u001b[49m\u001b[43m,\u001b[49m\u001b[43m \u001b[49m\u001b[38;5;28;43mself\u001b[39;49m\u001b[38;5;241;43m.\u001b[39;49m\u001b[43mengine\u001b[49m\u001b[43m)\u001b[49m\n",
      "File \u001b[1;32m~\\AppData\\Local\\Programs\\Python\\Python312\\Lib\\site-packages\\pandas\\io\\parsers\\readers.py:1880\u001b[0m, in \u001b[0;36mTextFileReader._make_engine\u001b[1;34m(self, f, engine)\u001b[0m\n\u001b[0;32m   1878\u001b[0m     \u001b[38;5;28;01mif\u001b[39;00m \u001b[38;5;124m\"\u001b[39m\u001b[38;5;124mb\u001b[39m\u001b[38;5;124m\"\u001b[39m \u001b[38;5;129;01mnot\u001b[39;00m \u001b[38;5;129;01min\u001b[39;00m mode:\n\u001b[0;32m   1879\u001b[0m         mode \u001b[38;5;241m+\u001b[39m\u001b[38;5;241m=\u001b[39m \u001b[38;5;124m\"\u001b[39m\u001b[38;5;124mb\u001b[39m\u001b[38;5;124m\"\u001b[39m\n\u001b[1;32m-> 1880\u001b[0m \u001b[38;5;28mself\u001b[39m\u001b[38;5;241m.\u001b[39mhandles \u001b[38;5;241m=\u001b[39m \u001b[43mget_handle\u001b[49m\u001b[43m(\u001b[49m\n\u001b[0;32m   1881\u001b[0m \u001b[43m    \u001b[49m\u001b[43mf\u001b[49m\u001b[43m,\u001b[49m\n\u001b[0;32m   1882\u001b[0m \u001b[43m    \u001b[49m\u001b[43mmode\u001b[49m\u001b[43m,\u001b[49m\n\u001b[0;32m   1883\u001b[0m \u001b[43m    \u001b[49m\u001b[43mencoding\u001b[49m\u001b[38;5;241;43m=\u001b[39;49m\u001b[38;5;28;43mself\u001b[39;49m\u001b[38;5;241;43m.\u001b[39;49m\u001b[43moptions\u001b[49m\u001b[38;5;241;43m.\u001b[39;49m\u001b[43mget\u001b[49m\u001b[43m(\u001b[49m\u001b[38;5;124;43m\"\u001b[39;49m\u001b[38;5;124;43mencoding\u001b[39;49m\u001b[38;5;124;43m\"\u001b[39;49m\u001b[43m,\u001b[49m\u001b[43m \u001b[49m\u001b[38;5;28;43;01mNone\u001b[39;49;00m\u001b[43m)\u001b[49m\u001b[43m,\u001b[49m\n\u001b[0;32m   1884\u001b[0m \u001b[43m    \u001b[49m\u001b[43mcompression\u001b[49m\u001b[38;5;241;43m=\u001b[39;49m\u001b[38;5;28;43mself\u001b[39;49m\u001b[38;5;241;43m.\u001b[39;49m\u001b[43moptions\u001b[49m\u001b[38;5;241;43m.\u001b[39;49m\u001b[43mget\u001b[49m\u001b[43m(\u001b[49m\u001b[38;5;124;43m\"\u001b[39;49m\u001b[38;5;124;43mcompression\u001b[39;49m\u001b[38;5;124;43m\"\u001b[39;49m\u001b[43m,\u001b[49m\u001b[43m \u001b[49m\u001b[38;5;28;43;01mNone\u001b[39;49;00m\u001b[43m)\u001b[49m\u001b[43m,\u001b[49m\n\u001b[0;32m   1885\u001b[0m \u001b[43m    \u001b[49m\u001b[43mmemory_map\u001b[49m\u001b[38;5;241;43m=\u001b[39;49m\u001b[38;5;28;43mself\u001b[39;49m\u001b[38;5;241;43m.\u001b[39;49m\u001b[43moptions\u001b[49m\u001b[38;5;241;43m.\u001b[39;49m\u001b[43mget\u001b[49m\u001b[43m(\u001b[49m\u001b[38;5;124;43m\"\u001b[39;49m\u001b[38;5;124;43mmemory_map\u001b[39;49m\u001b[38;5;124;43m\"\u001b[39;49m\u001b[43m,\u001b[49m\u001b[43m \u001b[49m\u001b[38;5;28;43;01mFalse\u001b[39;49;00m\u001b[43m)\u001b[49m\u001b[43m,\u001b[49m\n\u001b[0;32m   1886\u001b[0m \u001b[43m    \u001b[49m\u001b[43mis_text\u001b[49m\u001b[38;5;241;43m=\u001b[39;49m\u001b[43mis_text\u001b[49m\u001b[43m,\u001b[49m\n\u001b[0;32m   1887\u001b[0m \u001b[43m    \u001b[49m\u001b[43merrors\u001b[49m\u001b[38;5;241;43m=\u001b[39;49m\u001b[38;5;28;43mself\u001b[39;49m\u001b[38;5;241;43m.\u001b[39;49m\u001b[43moptions\u001b[49m\u001b[38;5;241;43m.\u001b[39;49m\u001b[43mget\u001b[49m\u001b[43m(\u001b[49m\u001b[38;5;124;43m\"\u001b[39;49m\u001b[38;5;124;43mencoding_errors\u001b[39;49m\u001b[38;5;124;43m\"\u001b[39;49m\u001b[43m,\u001b[49m\u001b[43m \u001b[49m\u001b[38;5;124;43m\"\u001b[39;49m\u001b[38;5;124;43mstrict\u001b[39;49m\u001b[38;5;124;43m\"\u001b[39;49m\u001b[43m)\u001b[49m\u001b[43m,\u001b[49m\n\u001b[0;32m   1888\u001b[0m \u001b[43m    \u001b[49m\u001b[43mstorage_options\u001b[49m\u001b[38;5;241;43m=\u001b[39;49m\u001b[38;5;28;43mself\u001b[39;49m\u001b[38;5;241;43m.\u001b[39;49m\u001b[43moptions\u001b[49m\u001b[38;5;241;43m.\u001b[39;49m\u001b[43mget\u001b[49m\u001b[43m(\u001b[49m\u001b[38;5;124;43m\"\u001b[39;49m\u001b[38;5;124;43mstorage_options\u001b[39;49m\u001b[38;5;124;43m\"\u001b[39;49m\u001b[43m,\u001b[49m\u001b[43m \u001b[49m\u001b[38;5;28;43;01mNone\u001b[39;49;00m\u001b[43m)\u001b[49m\u001b[43m,\u001b[49m\n\u001b[0;32m   1889\u001b[0m \u001b[43m\u001b[49m\u001b[43m)\u001b[49m\n\u001b[0;32m   1890\u001b[0m \u001b[38;5;28;01massert\u001b[39;00m \u001b[38;5;28mself\u001b[39m\u001b[38;5;241m.\u001b[39mhandles \u001b[38;5;129;01mis\u001b[39;00m \u001b[38;5;129;01mnot\u001b[39;00m \u001b[38;5;28;01mNone\u001b[39;00m\n\u001b[0;32m   1891\u001b[0m f \u001b[38;5;241m=\u001b[39m \u001b[38;5;28mself\u001b[39m\u001b[38;5;241m.\u001b[39mhandles\u001b[38;5;241m.\u001b[39mhandle\n",
      "File \u001b[1;32m~\\AppData\\Local\\Programs\\Python\\Python312\\Lib\\site-packages\\pandas\\io\\common.py:873\u001b[0m, in \u001b[0;36mget_handle\u001b[1;34m(path_or_buf, mode, encoding, compression, memory_map, is_text, errors, storage_options)\u001b[0m\n\u001b[0;32m    868\u001b[0m \u001b[38;5;28;01melif\u001b[39;00m \u001b[38;5;28misinstance\u001b[39m(handle, \u001b[38;5;28mstr\u001b[39m):\n\u001b[0;32m    869\u001b[0m     \u001b[38;5;66;03m# Check whether the filename is to be opened in binary mode.\u001b[39;00m\n\u001b[0;32m    870\u001b[0m     \u001b[38;5;66;03m# Binary mode does not support 'encoding' and 'newline'.\u001b[39;00m\n\u001b[0;32m    871\u001b[0m     \u001b[38;5;28;01mif\u001b[39;00m ioargs\u001b[38;5;241m.\u001b[39mencoding \u001b[38;5;129;01mand\u001b[39;00m \u001b[38;5;124m\"\u001b[39m\u001b[38;5;124mb\u001b[39m\u001b[38;5;124m\"\u001b[39m \u001b[38;5;129;01mnot\u001b[39;00m \u001b[38;5;129;01min\u001b[39;00m ioargs\u001b[38;5;241m.\u001b[39mmode:\n\u001b[0;32m    872\u001b[0m         \u001b[38;5;66;03m# Encoding\u001b[39;00m\n\u001b[1;32m--> 873\u001b[0m         handle \u001b[38;5;241m=\u001b[39m \u001b[38;5;28;43mopen\u001b[39;49m\u001b[43m(\u001b[49m\n\u001b[0;32m    874\u001b[0m \u001b[43m            \u001b[49m\u001b[43mhandle\u001b[49m\u001b[43m,\u001b[49m\n\u001b[0;32m    875\u001b[0m \u001b[43m            \u001b[49m\u001b[43mioargs\u001b[49m\u001b[38;5;241;43m.\u001b[39;49m\u001b[43mmode\u001b[49m\u001b[43m,\u001b[49m\n\u001b[0;32m    876\u001b[0m \u001b[43m            \u001b[49m\u001b[43mencoding\u001b[49m\u001b[38;5;241;43m=\u001b[39;49m\u001b[43mioargs\u001b[49m\u001b[38;5;241;43m.\u001b[39;49m\u001b[43mencoding\u001b[49m\u001b[43m,\u001b[49m\n\u001b[0;32m    877\u001b[0m \u001b[43m            \u001b[49m\u001b[43merrors\u001b[49m\u001b[38;5;241;43m=\u001b[39;49m\u001b[43merrors\u001b[49m\u001b[43m,\u001b[49m\n\u001b[0;32m    878\u001b[0m \u001b[43m            \u001b[49m\u001b[43mnewline\u001b[49m\u001b[38;5;241;43m=\u001b[39;49m\u001b[38;5;124;43m\"\u001b[39;49m\u001b[38;5;124;43m\"\u001b[39;49m\u001b[43m,\u001b[49m\n\u001b[0;32m    879\u001b[0m \u001b[43m        \u001b[49m\u001b[43m)\u001b[49m\n\u001b[0;32m    880\u001b[0m     \u001b[38;5;28;01melse\u001b[39;00m:\n\u001b[0;32m    881\u001b[0m         \u001b[38;5;66;03m# Binary mode\u001b[39;00m\n\u001b[0;32m    882\u001b[0m         handle \u001b[38;5;241m=\u001b[39m \u001b[38;5;28mopen\u001b[39m(handle, ioargs\u001b[38;5;241m.\u001b[39mmode)\n",
      "\u001b[1;31mFileNotFoundError\u001b[0m: [Errno 2] No such file or directory: 'application_data.csv'"
     ]
    }
   ],
   "source": [
    "app_data=pd.read_csv(\"application_data.csv\")\n",
    "app_data"
   ]
  },
  {
   "cell_type": "markdown",
   "id": "e95724d8-9de6-4d6b-b0e8-33cc0cfcb721",
   "metadata": {},
   "source": [
    "## Data inspection on application dataset\n",
    "### Get info and shape on the dataset"
   ]
  },
  {
   "cell_type": "code",
   "execution_count": null,
   "id": "69115059-140b-488b-8cdd-6679f06a26b3",
   "metadata": {},
   "outputs": [],
   "source": [
    "app_data.info()"
   ]
  },
  {
   "cell_type": "code",
   "execution_count": null,
   "id": "78e57859-1fc1-4ff2-880b-2ae7aa7e8970",
   "metadata": {},
   "outputs": [],
   "source": [
    "app_data.shape"
   ]
  },
  {
   "cell_type": "markdown",
   "id": "59b3e649-7eba-47e1-a076-ff5966d89644",
   "metadata": {},
   "source": [
    "## Data quality check\n",
    "\n",
    "### Check for percentage null values in application dataset"
   ]
  },
  {
   "cell_type": "code",
   "execution_count": null,
   "id": "31945b45-2beb-4fa3-979e-a33ad3455639",
   "metadata": {},
   "outputs": [],
   "source": [
    "pd.set_option(\"display.max_rows\",200)\n",
    "app_data.isnull().mean() * 100"
   ]
  },
  {
   "cell_type": "markdown",
   "id": "1792abd1-d46a-465a-8937-165427b8b139",
   "metadata": {},
   "source": [
    "#### Conclusion: Columns with null values more than 47% may give wrong insights, hence we will drop them.\n"
   ]
  },
  {
   "cell_type": "markdown",
   "id": "6ced12d6-4e17-4aaf-bb41-4102900ea911",
   "metadata": {},
   "source": [
    "### Dropping columns with missing values greater than 47%"
   ]
  },
  {
   "cell_type": "code",
   "execution_count": null,
   "id": "3aea9a4e-c19a-45eb-80ac-5d38227bff69",
   "metadata": {},
   "outputs": [],
   "source": [
    "percentage = 47\n",
    "threshold =int(((100-percentage)/100)*app_data.shape[0] * 1)\n",
    "app_df = app_data.dropna(axis = 1, thresh = threshold)\n",
    "app_df"
   ]
  },
  {
   "cell_type": "code",
   "execution_count": null,
   "id": "11e82341-e2c7-4195-ab21-8d844ef1b5d1",
   "metadata": {},
   "outputs": [],
   "source": [
    "app_df.isnull().mean() * 100"
   ]
  },
  {
   "cell_type": "markdown",
   "id": "7527ec2d-86b3-429b-a293-e5fcebe5f7db",
   "metadata": {},
   "source": [
    "### Impute missing values\n",
    "\n",
    "#### check the missing values in the application dataset before imputing"
   ]
  },
  {
   "cell_type": "code",
   "execution_count": null,
   "id": "ea2e6fd9-48c6-4f78-8041-a824515ecc97",
   "metadata": {},
   "outputs": [],
   "source": [
    "app_df.info()"
   ]
  },
  {
   "cell_type": "markdown",
   "id": "b16a96d9-25df-48a6-9f6d-a848e3c7f705",
   "metadata": {},
   "source": [
    "#### OCCUPATION_TYPE col has 31% missing values, since it is a categorical column , imputing the missing values with a unknown or other value"
   ]
  },
  {
   "cell_type": "code",
   "execution_count": null,
   "id": "979553b4-58ed-4c20-bbe2-1dd944a58733",
   "metadata": {},
   "outputs": [],
   "source": [
    "app_df.OCCUPATION_TYPE.isnull().mean()*100"
   ]
  },
  {
   "cell_type": "code",
   "execution_count": null,
   "id": "13445024-c239-4b32-9e0e-49273cc769c4",
   "metadata": {},
   "outputs": [],
   "source": [
    "# normalizing the value\n",
    "app_df.OCCUPATION_TYPE.value_counts(normalize=True)*100"
   ]
  },
  {
   "cell_type": "code",
   "execution_count": null,
   "id": "2e7c3e43-b031-415d-8f6e-347d58d38530",
   "metadata": {},
   "outputs": [],
   "source": [
    "#imputing the values\n",
    "app_df.OCCUPATION_TYPE.fillna(\"Others\",inplace=True)"
   ]
  },
  {
   "cell_type": "code",
   "execution_count": null,
   "id": "fde9f11f-2eff-4f4d-8435-afbe141e65d4",
   "metadata": {},
   "outputs": [],
   "source": [
    "app_df.OCCUPATION_TYPE.isnull().mean()*100"
   ]
  },
  {
   "cell_type": "code",
   "execution_count": null,
   "id": "caa66b13-1d94-455a-8789-a3b8ee424f73",
   "metadata": {},
   "outputs": [],
   "source": [
    "# normalizing the value\n",
    "app_df.OCCUPATION_TYPE.value_counts(normalize=True)*100"
   ]
  },
  {
   "cell_type": "markdown",
   "id": "ff9a48d0-4ab2-4bfd-a719-21d6ff388f0d",
   "metadata": {},
   "source": [
    "### EXT_SOURCE_3 Column has 19% missing values"
   ]
  },
  {
   "cell_type": "code",
   "execution_count": null,
   "id": "18f80560-4fa0-45ee-a672-e6c2762d9d6d",
   "metadata": {},
   "outputs": [],
   "source": [
    "app_df.EXT_SOURCE_3.isnull().mean()*100"
   ]
  },
  {
   "cell_type": "code",
   "execution_count": null,
   "id": "fbe2c3d5-15b9-4c34-8a0c-1ed0d1ce4674",
   "metadata": {},
   "outputs": [],
   "source": [
    "# normalizing the value\n",
    "app_df.EXT_SOURCE_3.value_counts(normalize=True)*100"
   ]
  },
  {
   "cell_type": "code",
   "execution_count": null,
   "id": "e8fe060d-c106-4c8f-92e5-7702c6174098",
   "metadata": {},
   "outputs": [],
   "source": [
    "#descriptive statistics\n",
    "app_df.EXT_SOURCE_3.describe()"
   ]
  },
  {
   "cell_type": "code",
   "execution_count": null,
   "id": "e0c80efa-d6f8-402d-9a90-9610e75907b5",
   "metadata": {},
   "outputs": [],
   "source": [
    "sns.boxplot(app_df.EXT_SOURCE_3)\n",
    "plt.show()"
   ]
  },
  {
   "cell_type": "markdown",
   "id": "970a9391-c18d-4748-8b79-5de5ed2d7429",
   "metadata": {},
   "source": [
    "#### Conclusion: Since it is a numerical column with no outliers and there is not much difference between mean and median. \n",
    "#### Hence we can impute with mean or median"
   ]
  },
  {
   "cell_type": "code",
   "execution_count": null,
   "id": "5d920fa9-e191-418d-9299-ac9ea72dffdb",
   "metadata": {},
   "outputs": [],
   "source": [
    "#imputing median value\n",
    "app_df.EXT_SOURCE_3.fillna(app_df.EXT_SOURCE_3.median(),inplace=True)"
   ]
  },
  {
   "cell_type": "code",
   "execution_count": null,
   "id": "da1dec47-6735-43f5-8664-8911324d3d14",
   "metadata": {},
   "outputs": [],
   "source": [
    "app_df.EXT_SOURCE_3.isnull().mean()*100"
   ]
  },
  {
   "cell_type": "code",
   "execution_count": null,
   "id": "3aa9b3b7-ac85-44e1-b2e0-00c41d6045b8",
   "metadata": {},
   "outputs": [],
   "source": [
    "# normalizing the value\n",
    "app_df.EXT_SOURCE_3.value_counts(normalize=True)*100"
   ]
  },
  {
   "cell_type": "code",
   "execution_count": null,
   "id": "9fa3387b-e529-4522-8bab-7cde2e1b5369",
   "metadata": {},
   "outputs": [],
   "source": [
    "null_cols = list(app_df.columns[app_df.isna().any()])\n",
    "len(null_cols)"
   ]
  },
  {
   "cell_type": "code",
   "execution_count": null,
   "id": "ba08815c-2b37-4356-9c0d-c0c43ed6e249",
   "metadata": {},
   "outputs": [],
   "source": [
    "app_df.isnull().mean()*100"
   ]
  },
  {
   "cell_type": "markdown",
   "id": "b3c7131a-b081-47f7-9063-e41840e3da33",
   "metadata": {},
   "source": [
    "#### Handling misssing values in columns with 13% null values"
   ]
  },
  {
   "cell_type": "code",
   "execution_count": null,
   "id": "11ddbf8c-f029-4acd-a31a-2d31c78c9ec7",
   "metadata": {},
   "outputs": [],
   "source": [
    "# normalizing the value\n",
    "app_df.AMT_REQ_CREDIT_BUREAU_HOUR.value_counts(normalize=True)*100"
   ]
  },
  {
   "cell_type": "code",
   "execution_count": null,
   "id": "2ab154fd-5098-4e2a-bda3-42e7e377b446",
   "metadata": {},
   "outputs": [],
   "source": [
    "# normalizing the value\n",
    "app_df.AMT_REQ_CREDIT_BUREAU_DAY.value_counts(normalize=True)*100"
   ]
  },
  {
   "cell_type": "code",
   "execution_count": null,
   "id": "92bd1d7c-cd43-41b4-afea-24a25918bbb9",
   "metadata": {},
   "outputs": [],
   "source": [
    "# normalizing the value\n",
    "app_df.AMT_REQ_CREDIT_BUREAU_WEEK.value_counts(normalize=True)*100"
   ]
  },
  {
   "cell_type": "code",
   "execution_count": null,
   "id": "00a4b30e-671a-48bf-8c7f-9a98197a0a34",
   "metadata": {},
   "outputs": [],
   "source": [
    "# normalizing the value\n",
    "app_df.AMT_REQ_CREDIT_BUREAU_MON.value_counts(normalize=True)*100"
   ]
  },
  {
   "cell_type": "code",
   "execution_count": null,
   "id": "0901270d-a8c3-4225-9ce7-4eae193f5c46",
   "metadata": {},
   "outputs": [],
   "source": [
    "# normalizing the value\n",
    "app_df.AMT_REQ_CREDIT_BUREAU_QRT.value_counts(normalize=True)*100"
   ]
  },
  {
   "cell_type": "code",
   "execution_count": null,
   "id": "1142af41-5132-4332-a9c6-a4b349962f6c",
   "metadata": {},
   "outputs": [],
   "source": [
    "# normalizing the value\n",
    "app_df.AMT_REQ_CREDIT_BUREAU_YEAR.value_counts(normalize=True)*100"
   ]
  },
  {
   "cell_type": "markdown",
   "id": "39fa5388-a5c1-4ad7-9d3c-ca04dbf9385f",
   "metadata": {},
   "source": [
    "##### Conclusion: We could see that 99% values in the columns AMT_REQ_CREDIT_BUREAU_HOUR,AMT_REQ_CREDIT_BUREAU_DAY,AMT_REQ_CREDIT_BUREAU_WEEK,\n",
    "##### AMT_REQ_CREDIT_BUREAU_MON,AMT_REQ_CREDIT_BUREAU_QRT,AMT_REQ_CREDIT_BUREAU_YEAR is 0.0. hence impute this columns with the mode"
   ]
  },
  {
   "cell_type": "code",
   "execution_count": null,
   "id": "8c0e2924-0fec-472b-ab9d-2a96049a0901",
   "metadata": {},
   "outputs": [],
   "source": [
    "cols = ['AMT_REQ_CREDIT_BUREAU_HOUR','AMT_REQ_CREDIT_BUREAU_DAY','AMT_REQ_CREDIT_BUREAU_WEEK',\n",
    "'AMT_REQ_CREDIT_BUREAU_MON','AMT_REQ_CREDIT_BUREAU_QRT','AMT_REQ_CREDIT_BUREAU_YEAR']\n",
    "for col in cols:\n",
    "    app_df[col].fillna(app_df[col].mode()[0],inplace=True)"
   ]
  },
  {
   "cell_type": "code",
   "execution_count": null,
   "id": "68389d71-e1f1-44cf-9c7a-fa4e92def6cd",
   "metadata": {},
   "outputs": [],
   "source": [
    "app_df.isnull().mean()*100"
   ]
  },
  {
   "cell_type": "markdown",
   "id": "6cf4f26e-7b0f-4d5b-bdc7-7240c9215626",
   "metadata": {},
   "source": [
    "#### Handling missing values less than 1%"
   ]
  },
  {
   "cell_type": "code",
   "execution_count": null,
   "id": "d89024e7-8e34-4d67-aa9f-cccb24eff461",
   "metadata": {},
   "outputs": [],
   "source": [
    "null_cols = list(app_df.columns[app_df.isna().any()])\n",
    "len(null_cols)"
   ]
  },
  {
   "cell_type": "code",
   "execution_count": null,
   "id": "fb4b4bcb-e802-4664-868d-1e7f33505974",
   "metadata": {},
   "outputs": [],
   "source": [
    "app_df.NAME_TYPE_SUITE.value_counts(normalize=True)*100"
   ]
  },
  {
   "cell_type": "code",
   "execution_count": null,
   "id": "a27da368-5b5b-44ca-8972-729fcdfddd74",
   "metadata": {},
   "outputs": [],
   "source": [
    "app_df.EXT_SOURCE_2 .value_counts(normalize=True)*100"
   ]
  },
  {
   "cell_type": "code",
   "execution_count": null,
   "id": "2a0aacc3-6adf-40a6-950a-07620da4df74",
   "metadata": {},
   "outputs": [],
   "source": [
    "app_df.OBS_30_CNT_SOCIAL_CIRCLE.value_counts(normalize=True)*100"
   ]
  },
  {
   "cell_type": "code",
   "execution_count": null,
   "id": "e2c16ebb-a188-42aa-b5c0-848a09dc1d22",
   "metadata": {},
   "outputs": [],
   "source": [
    "app_df.DEF_30_CNT_SOCIAL_CIRCLE.value_counts(normalize=True)*100"
   ]
  },
  {
   "cell_type": "code",
   "execution_count": null,
   "id": "0f50237d-aecc-4af6-be07-d3afd64bded1",
   "metadata": {},
   "outputs": [],
   "source": [
    "app_df.OBS_60_CNT_SOCIAL_CIRCLE.value_counts(normalize=True)*100"
   ]
  },
  {
   "cell_type": "code",
   "execution_count": null,
   "id": "bb33ed83-d815-4efb-9555-d4876d82eb2a",
   "metadata": {},
   "outputs": [],
   "source": [
    "app_df.DEF_60_CNT_SOCIAL_CIRCLE.value_counts(normalize=True)*100"
   ]
  },
  {
   "cell_type": "markdown",
   "id": "df484701-ee88-4b3b-be15-ec433bef5233",
   "metadata": {},
   "source": [
    "#### - Conclusion:\n",
    "####           - For categorical cols, impute missing values with mode\n",
    "####           - For numerical cols, impute missing values with median"
   ]
  },
  {
   "cell_type": "code",
   "execution_count": null,
   "id": "c5465a93-94e8-4417-b253-96a67ea7669d",
   "metadata": {},
   "outputs": [],
   "source": [
    "# categorical col-\n",
    "app_df.NAME_TYPE_SUITE.fillna(app_df.NAME_TYPE_SUITE.mode()[0],inplace=True)"
   ]
  },
  {
   "cell_type": "code",
   "execution_count": null,
   "id": "300c841d-d243-4708-985b-a5f820e97b3d",
   "metadata": {},
   "outputs": [],
   "source": [
    "app_df.CNT_FAM_MEMBERS.fillna(app_df.CNT_FAM_MEMBERS.mode()[0],inplace=True)"
   ]
  },
  {
   "cell_type": "code",
   "execution_count": null,
   "id": "3df2cec6-e7a0-4c34-9963-44b5a00f2749",
   "metadata": {},
   "outputs": [],
   "source": [
    "# numeric col:\n",
    "app_df.EXT_SOURCE_2 .fillna(app_df.EXT_SOURCE_2 .median(),inplace=True)"
   ]
  },
  {
   "cell_type": "code",
   "execution_count": null,
   "id": "8c7050d1-7b72-46f1-bd56-220508a5e31f",
   "metadata": {},
   "outputs": [],
   "source": [
    "app_df.OBS_30_CNT_SOCIAL_CIRCLE.fillna(app_df.OBS_30_CNT_SOCIAL_CIRCLE.median(),inplace=True)"
   ]
  },
  {
   "cell_type": "code",
   "execution_count": null,
   "id": "2fb9f656-7447-4997-bf93-99c48ff21729",
   "metadata": {},
   "outputs": [],
   "source": [
    "app_df.DEF_30_CNT_SOCIAL_CIRCLE.fillna(app_df.DEF_30_CNT_SOCIAL_CIRCLE.median(),inplace=True)"
   ]
  },
  {
   "cell_type": "code",
   "execution_count": null,
   "id": "ae1cfc28-b11a-4a3c-b154-aaee2e2a20a2",
   "metadata": {},
   "outputs": [],
   "source": [
    "app_df.OBS_60_CNT_SOCIAL_CIRCLE.fillna(app_df.OBS_60_CNT_SOCIAL_CIRCLE.median(),inplace=True)"
   ]
  },
  {
   "cell_type": "code",
   "execution_count": null,
   "id": "d8e23abc-8f9e-4272-a809-6b4e50cae7b4",
   "metadata": {},
   "outputs": [],
   "source": [
    "app_df.DEF_60_CNT_SOCIAL_CIRCLE.fillna(app_df.DEF_60_CNT_SOCIAL_CIRCLE.median(),inplace=True)"
   ]
  },
  {
   "cell_type": "code",
   "execution_count": null,
   "id": "93d56dd2-7ae8-44fe-8410-524a73fe95d6",
   "metadata": {},
   "outputs": [],
   "source": [
    "app_df.AMT_ANNUITY.fillna(app_df.AMT_ANNUITY.median(),inplace=True)"
   ]
  },
  {
   "cell_type": "code",
   "execution_count": null,
   "id": "34903a44-b005-4e74-878e-52a8a8057e29",
   "metadata": {},
   "outputs": [],
   "source": [
    "app_df.AMT_GOODS_PRICE.fillna(app_df.AMT_GOODS_PRICE.median(),inplace=True)"
   ]
  },
  {
   "cell_type": "code",
   "execution_count": null,
   "id": "dd19ff0a-7169-4b09-9cc6-96938f54d782",
   "metadata": {},
   "outputs": [],
   "source": [
    "app_df.DAYS_LAST_PHONE_CHANGE.fillna(app_df.DAYS_LAST_PHONE_CHANGE.median(),inplace=True)"
   ]
  },
  {
   "cell_type": "code",
   "execution_count": null,
   "id": "c44a980a-7d4e-4523-a7b6-65dc9f79d9bd",
   "metadata": {},
   "outputs": [],
   "source": [
    "#checking for null values if any\n",
    "null_cols = list(app_df.columns[app_df.isna().any()])\n",
    "len(null_cols)"
   ]
  },
  {
   "cell_type": "code",
   "execution_count": null,
   "id": "31ed1f3e-d795-4ea5-a328-1737a43a341b",
   "metadata": {},
   "outputs": [],
   "source": [
    "app_df.isnull().mean()*100"
   ]
  },
  {
   "cell_type": "markdown",
   "id": "39093acf-4d88-4d1e-b496-f28b67d4c842",
   "metadata": {},
   "source": [
    "#### Convert negative values to positive in days variable to that median is not affected"
   ]
  },
  {
   "cell_type": "code",
   "execution_count": null,
   "id": "13721d39-6be7-4efb-bd06-d353f6e21a57",
   "metadata": {},
   "outputs": [],
   "source": [
    "app_df.YEARS_BIRTH = app_df.DAYS_BIRTH.apply(lambda x: abs(x))\n",
    "app_df.YEARS_EMPLOYED = app_df.DAYS_EMPLOYED.apply(lambda x: abs(x))\n",
    "app_df.YEARS_REGISTRATION = app_df.DAYS_REGISTRATION.apply(lambda x: abs(x))\n",
    "app_df.YEARS_ID_PUBLISH = app_df.DAYS_ID_PUBLISH.apply(lambda x: abs(x))\n",
    "app_df.YEARS_LAST_PHONE_CHANGE = app_df.DAYS_LAST_PHONE_CHANGE.apply(lambda x: abs(x))"
   ]
  },
  {
   "cell_type": "code",
   "execution_count": null,
   "id": "af544d1e-c38b-4ebd-83de-950cdb11c6ba",
   "metadata": {},
   "outputs": [],
   "source": [
    "app_df.YEARS_EMPLOYED"
   ]
  },
  {
   "cell_type": "markdown",
   "id": "ff3affc0-d831-4f92-8530-1351090c98a4",
   "metadata": {},
   "source": [
    "#### Binning of continuous variables\n",
    "#### Standardizing days columns into years for easy binning"
   ]
  },
  {
   "cell_type": "code",
   "execution_count": null,
   "id": "f64e9379-9b2f-4663-a2f8-8b894732aaca",
   "metadata": {},
   "outputs": [],
   "source": [
    "#binning is a process where we group similar numbers or close by numbers of continuous variables into discrete var's"
   ]
  },
  {
   "cell_type": "code",
   "execution_count": null,
   "id": "4492f2ab-4b43-4623-97b8-1c4f9d8bc9d5",
   "metadata": {},
   "outputs": [],
   "source": [
    "app_df[\"YEARS_BIRTH\"] = app_df.YEARS_BIRTH.apply(lambda x: int(x//365))\n",
    "app_df[\"YEARS_EMPLOYED\"] = app_df.YEARS_EMPLOYED.apply(lambda x: int(x//365))\n",
    "app_df[\"YEARS_REGISTRATION\"] = app_df.YEARS_REGISTRATION.apply(lambda x: int(x//365))\n",
    "app_df[\"YEARS_ID_PUBLISH\"] = app_df.YEARS_ID_PUBLISH.apply(lambda x: int(x//365))\n",
    "app_df[\"YEARS_LAST_PHONE_CHANGE\"] = app_df.YEARS_LAST_PHONE_CHANGE.apply(lambda x: int(x//365))"
   ]
  },
  {
   "cell_type": "code",
   "execution_count": null,
   "id": "3e8a4cc2-01d1-4d66-af96-f062ba535513",
   "metadata": {},
   "outputs": [],
   "source": [
    "app_df[\"YEARS_EMPLOYED\"]"
   ]
  },
  {
   "cell_type": "markdown",
   "id": "9c786a9d-d549-45b8-b922-01cdb911c7f0",
   "metadata": {},
   "source": [
    "#### Binning AMT_CREDIT column"
   ]
  },
  {
   "cell_type": "code",
   "execution_count": null,
   "id": "0c62e438-ba34-49e4-ac61-d8aee3bdac85",
   "metadata": {},
   "outputs": [],
   "source": [
    "app_df.AMT_CREDIT.value_counts(normalize=True)*100"
   ]
  },
  {
   "cell_type": "code",
   "execution_count": null,
   "id": "e277c6dd-672d-4c13-9bfd-ae0e51238439",
   "metadata": {},
   "outputs": [],
   "source": [
    "app_df.AMT_CREDIT.describe()"
   ]
  },
  {
   "cell_type": "code",
   "execution_count": null,
   "id": "05948485-895d-400b-8ebf-064270b740d2",
   "metadata": {},
   "outputs": [],
   "source": [
    "app_df['AMT_CREDIT_Category'] = pd.cut(app_df.AMT_CREDIT,[0,200000,400000,600000,800000,1000000],\n",
    "                                      labels = ['Very low credit','Low credit','Medium credit','High credit','Very high credit'])"
   ]
  },
  {
   "cell_type": "code",
   "execution_count": null,
   "id": "3709a212-8b55-4540-870b-a3cb62b9c7e3",
   "metadata": {},
   "outputs": [],
   "source": [
    "app_df.AMT_CREDIT_Category.value_counts(normalize=True)*100"
   ]
  },
  {
   "cell_type": "code",
   "execution_count": null,
   "id": "30044c32-cca4-4ddb-8390-301b1b11fb94",
   "metadata": {},
   "outputs": [],
   "source": [
    "app_df['AMT_CREDIT_Category'].value_counts(normalize=True).plot.bar()\n",
    "plt.show()"
   ]
  },
  {
   "cell_type": "markdown",
   "id": "e92342e6-2cea-4bdb-a5fe-1cca87820ee7",
   "metadata": {},
   "source": [
    "##### Conclusion: The credit amount of the loan for amount low(2L to 4L) or very high (above 8L)"
   ]
  },
  {
   "cell_type": "markdown",
   "id": "c8833bee-b710-4301-a391-2eaff0117bab",
   "metadata": {},
   "source": [
    "### Binning YEARS_BIRTH column"
   ]
  },
  {
   "cell_type": "code",
   "execution_count": null,
   "id": "4e7ae431-d0c8-40b8-be8a-b13268f4fb7a",
   "metadata": {},
   "outputs": [],
   "source": [
    "app_df[\"YEARS_BIRTH\"].value_counts(normalize=True)*100"
   ]
  },
  {
   "cell_type": "code",
   "execution_count": null,
   "id": "56530535-53c2-4165-ba80-9dce7098d304",
   "metadata": {},
   "outputs": [],
   "source": [
    "app_df['Age_Category'] = pd.cut(app_df[\"YEARS_BIRTH\"],[0,25,45,65,85],labels = [\"Below 25\",\"25-45\",\"45-65\",\"65-85\"])"
   ]
  },
  {
   "cell_type": "code",
   "execution_count": null,
   "id": "ea6b9e04-1bdd-49c7-be2f-6a81bfc9f233",
   "metadata": {},
   "outputs": [],
   "source": [
    "app_df.Age_Category.value_counts(normalize=True)*100"
   ]
  },
  {
   "cell_type": "code",
   "execution_count": null,
   "id": "af63cf66-d83b-4d43-9e95-ad2fd369c49d",
   "metadata": {},
   "outputs": [],
   "source": [
    "app_df['Age_Category'].value_counts(normalize=True).plot.pie(autopct='%1.2f%%')\n",
    "plt.show()"
   ]
  },
  {
   "cell_type": "markdown",
   "id": "bca1db62-57bf-490f-9508-d596062afa99",
   "metadata": {},
   "source": [
    "#### Conclusion: Most of the applicants are between 25-45 age group"
   ]
  },
  {
   "cell_type": "markdown",
   "id": "f4fa1cab-1838-47c5-b1de-03db0511bffd",
   "metadata": {},
   "source": [
    "### Data Imbalance Check"
   ]
  },
  {
   "cell_type": "code",
   "execution_count": null,
   "id": "7caddb7b-be58-451d-9395-7b3a259c25d0",
   "metadata": {},
   "outputs": [],
   "source": [
    "app_df.head()"
   ]
  },
  {
   "cell_type": "markdown",
   "id": "dd6c1b00-e8a0-480c-bb28-47c7064e27c3",
   "metadata": {},
   "source": [
    "### Dividing application dataset with target variable as 0 and 1"
   ]
  },
  {
   "cell_type": "code",
   "execution_count": null,
   "id": "458fa4e0-9b36-47e2-971b-70da19d1bf13",
   "metadata": {},
   "outputs": [],
   "source": [
    "tar_0 = app_df[app_df.TARGET==0]\n",
    "tar_1 = app_df[app_df.TARGET==1]"
   ]
  },
  {
   "cell_type": "code",
   "execution_count": null,
   "id": "13f7271e-36c0-406a-8844-84f2a6ee7658",
   "metadata": {},
   "outputs": [],
   "source": [
    "app_df.TARGET.value_counts(normalize=True)*100"
   ]
  },
  {
   "cell_type": "markdown",
   "id": "2a09b6eb-ea6a-429e-84c4-e75927bdcf7c",
   "metadata": {},
   "source": [
    "##### Conclusion: 1 out of 9 or 10 applicants are defaulters"
   ]
  },
  {
   "cell_type": "markdown",
   "id": "e046a618-eb94-4f19-ad9f-ab6244b06638",
   "metadata": {},
   "source": [
    "### Univariate Analysis"
   ]
  },
  {
   "cell_type": "code",
   "execution_count": null,
   "id": "447b486d-0db4-4b9e-9b16-368c108486cf",
   "metadata": {},
   "outputs": [],
   "source": [
    "categorical_cols = list(app_df.columns[app_df.dtypes==object])\n",
    "numerical_cols = list(app_df.columns[app_df.dtypes==np.int64]) + list(app_df.columns[app_df.dtypes==np.float64])"
   ]
  },
  {
   "cell_type": "code",
   "execution_count": null,
   "id": "febf0e6a-b40f-481a-9416-d7a5d7c1affd",
   "metadata": {},
   "outputs": [],
   "source": [
    "categorical_cols"
   ]
  },
  {
   "cell_type": "code",
   "execution_count": null,
   "id": "ad41aaf6-8e28-4c10-b6bf-34e2ddf4ceb4",
   "metadata": {},
   "outputs": [],
   "source": [
    "numerical_cols"
   ]
  },
  {
   "cell_type": "code",
   "execution_count": null,
   "id": "9c3a1539-f669-4f04-a193-298c00df1e79",
   "metadata": {},
   "outputs": [],
   "source": [
    "for col in categorical_cols:\n",
    "    print(app_df[col].value_counts(normalize=True))\n",
    "    plt.figure(figsize=(5,5))\n",
    "    app_df[col].value_counts(normalize=True).plot.pie(labeldistance= None,autopct=\"%1.2f%%\")\n",
    "    plt.legend()\n",
    "    plt.show()"
   ]
  },
  {
   "cell_type": "markdown",
   "id": "214ebec3-be71-463b-a6e2-bff86b6f3b3b",
   "metadata": {},
   "source": [
    "- Conclusion >> Insights on below cols\n",
    "  1. NAME_CONTRACT_TYPE : More applicantions have cash loans than revolving loans\n",
    "  2. CODE_GENDER : No.of female applicants are twice than male applicants\n",
    "  3. FLAG_OWN_CAR : 70% of the applicants do not own a car\n",
    "  4. FLAG_OWN_REALITY: 70% of the applicants do not own a house\n",
    "  5. NAME_TYPE_SUITE: 81% of the applicants are unaccompanied\n",
    "  6. NAME_INCOME_TYPE : 51% of the applicants are earning their income from work\n",
    "  7. NAME_EDUCATION_TYPE: 71% of the applicants have completed secondary/secondary special education\n",
    "  8. NAME_FAMILY_STATUS: 63% of the applicants are married\n",
    "  9. NAME_HOUSING_TYPE: 88% of the applicants are living in house/apartment\n",
    "  10. OCCUPATION_TYPE: 31% of the applicants have other occupation type\n",
    "  11. WEEKDAY_APPR_PROCESS_START: 17% of the applicants have applied the loan on tuesday.\n",
    "  12. ORGANIZATION_TYPE: 22% of the employee's organization type is business entity type3"
   ]
  },
  {
   "cell_type": "markdown",
   "id": "ec27df33-4461-4c5b-a4d8-97b08567f05a",
   "metadata": {},
   "source": [
    "#### Plot on numerical columns\n",
    "\n",
    "##### Categorize cols with and without flags"
   ]
  },
  {
   "cell_type": "code",
   "execution_count": null,
   "id": "54e7c2e7-673b-48d8-8b0a-41417358e3f8",
   "metadata": {},
   "outputs": [],
   "source": [
    "num_cols_with_flag = []\n",
    "num_cols_without_flag = []\n",
    "for col in numerical_cols:\n",
    "    if col.startswith(\"FLAG\"):\n",
    "        num_cols_with_flag.append(col)\n",
    "    else:\n",
    "        num_cols_without_flag.append(col)"
   ]
  },
  {
   "cell_type": "code",
   "execution_count": null,
   "id": "922e5771-f754-42ed-88c5-115b6f480741",
   "metadata": {},
   "outputs": [],
   "source": [
    "num_cols_with_flag"
   ]
  },
  {
   "cell_type": "code",
   "execution_count": null,
   "id": "89e907a1-85cd-4bbf-a203-d2fe35bf9172",
   "metadata": {},
   "outputs": [],
   "source": [
    "num_cols_without_flag"
   ]
  },
  {
   "cell_type": "code",
   "execution_count": null,
   "id": "5083df70-bc25-46a8-88c1-a221a9cd6ef4",
   "metadata": {},
   "outputs": [],
   "source": [
    "for col in num_cols_without_flag:\n",
    "    print(app_df[col].describe())\n",
    "    plt.figure(figsize=(8,5))\n",
    "    sns.boxplot(data=app_df, x=col)\n",
    "    plt.show()\n",
    "    print(\"-----------------------\")"
   ]
  },
  {
   "cell_type": "markdown",
   "id": "3fdfb49e-90a6-40a5-a9a7-7f862755e459",
   "metadata": {},
   "source": [
    "- Conclusion: Few columns are with outliers are below\n",
    "1. AMT_INCOME_TOTAL col has a few outliers and there is a huge diff b/w 99th percentile and max value, also we could see huge variation \n",
    "in mean and median due to outliers\n",
    "2. AMT_CREDIT col has few outliers and there is a huge diff b/w 99th percentile and max value, also we could see huge variation \n",
    "in mean and median due to outliers\n",
    "3. AMT_ANNUITY  col has few outliers and there is a huge diff b/w 99th percentile and max value, also we could see huge variation \n",
    "in mean and median due to outliers\n",
    "4. AMT_GOODS_PRICE  col has few outliers and there is a huge diff b/w 99th percentile and max value, also we could see huge variation \n",
    "in mean and median due to outliers\n",
    "5. REGION_POPULATION_RELATIVE col has one outlier and ther's no much diff b/w mean and median"
   ]
  },
  {
   "cell_type": "markdown",
   "id": "70abff02-30e2-44a0-b96a-a8c273085560",
   "metadata": {},
   "source": [
    "#### univariate analysis on cols with target 0 and 1"
   ]
  },
  {
   "cell_type": "code",
   "execution_count": null,
   "id": "540cfe9b-943a-4487-8f7b-712aa7153ce1",
   "metadata": {},
   "outputs": [],
   "source": [
    "for col in categorical_cols:\n",
    "    print(f\"plot on {col} for Target 0 and 1\")\n",
    "    plt.figure(figsize=(10,7))\n",
    "    plt.subplot(1,2,1)\n",
    "    tar_0[col].value_counts(normalize=True).plot.bar()\n",
    "    plt.title(\"Target 0\")\n",
    "    plt.xlabel(col)\n",
    "    plt.ylabel(\"Density\")\n",
    "    plt.subplot(1,2,2)\n",
    "    tar_1[col].value_counts(normalize=True).plot.bar()\n",
    "    plt.title(\"Target 1\")\n",
    "    plt.xlabel(col)\n",
    "    plt.ylabel(\"Density\")\n",
    "    plt.show()\n",
    "    print(\"\\n\\n ------------------------------------------------------- \\n\\n\")"
   ]
  },
  {
   "cell_type": "markdown",
   "id": "67dc52f4-34fa-4aee-88ea-6a382f213012",
   "metadata": {},
   "source": [
    "- Conclusion: Below are column insights\n",
    "- 1. NAME_CONTRACT_TYPE: Applicants are receiving more cashloans than revolving loans for both target 0 and 1\n",
    "  2. CODE_GENDER:  No.of female applicants are twice than male applicants for both target 0 and 1\n",
    "  3. FLAG_OWN_CAR : 70% of the applicants do not own a car for both target 0 and 1\n",
    "  4. FLAG_OWN_REALITY: 70% of the applicants do not own a house for both target 0 and 1\n",
    "  5. NAME_TYPE_SUITE: 81% of the applicants are unaccompanied for both target 0 and 1\n",
    "  6. NAME_INCOME_TYPE : 51% of the applicants are earning their income from work for both target 0 and 1\n",
    "  7. NAME_EDUCATION_TYPE: 71% of the applicants have completed secondary/secondary special education for both target 0 and 1\n",
    "  8. NAME_FAMILY_STATUS: 63% of the applicants are married for both target 0 and 1\n",
    "  9. NAME_HOUSING_TYPE: 88% of the applicants are living in house/apartment for both target 0 and 1\n",
    "  10. OCCUPATION_TYPE: 31% of the applicants have other occupation type, are non defaulters,labourers,sales staff,drivers and core staff are not able to repay their loan on time\n",
    "  11. WEEKDAY_APPR_PROCESS_START: 17% of the applicants have applied the loan on tuesday and least on sunday for both target 0 and 1\n",
    "  12. ORGANIZATION_TYPE: 22% of the employee's organization type is business entity type3 , self employed and others organization type for both target 0 and 1"
   ]
  },
  {
   "cell_type": "markdown",
   "id": "8a21d754-6c7b-45ad-bdff-9930e6ac1267",
   "metadata": {},
   "source": [
    "#### Analysis on AMT_GOODS_PRICE on target 0 and 1"
   ]
  },
  {
   "cell_type": "code",
   "execution_count": null,
   "id": "1f35acbb-fe37-445a-9b47-f71c20b40e98",
   "metadata": {},
   "outputs": [],
   "source": [
    "plt.figure(figsize=(10,6))\n",
    "sns.distplot(tar_0['AMT_GOODS_PRICE'],label='tar_0',hist=False)\n",
    "sns.distplot(tar_1['AMT_GOODS_PRICE'],label='tar_1',hist=False)\n",
    "plt.legend()\n",
    "plt.show()"
   ]
  },
  {
   "cell_type": "markdown",
   "id": "992b63d7-10d5-4a19-a80d-fd45c2846e0e",
   "metadata": {},
   "source": [
    "- Conclusion: The price of the goods for which loan is given has the same variation for Target 0 and 1"
   ]
  },
  {
   "cell_type": "markdown",
   "id": "57a59f41-6ee1-4aeb-9dc0-b280343e5eaf",
   "metadata": {},
   "source": [
    "### Bivariate and Multivariate Analysis \n",
    "\n",
    "#### Bivariate Analysis b/w WEEKDAY_APPR_PROCESS_START vs  HOUR_APPR_PROCESS_START"
   ]
  },
  {
   "cell_type": "code",
   "execution_count": null,
   "id": "a5df0253-45bf-45c0-914c-e9510e9271db",
   "metadata": {},
   "outputs": [],
   "source": [
    "plt.figure(figsize=(15,10))\n",
    "plt.subplot(1,2,1)\n",
    "sns.boxplot(x=\"WEEKDAY_APPR_PROCESS_START\", y=\"HOUR_APPR_PROCESS_START\",data=tar_0)\n",
    "plt.subplot(1,2,2)\n",
    "sns.boxplot(x=\"WEEKDAY_APPR_PROCESS_START\", y=\"HOUR_APPR_PROCESS_START\",data=tar_1)\n",
    "plt.show()"
   ]
  },
  {
   "cell_type": "markdown",
   "id": "84c602c1-87cf-4c12-858c-30943eb4d154",
   "metadata": {},
   "source": [
    "- Conclusion:\n",
    "- 1. The bank operates b/w 10am to 3pm except for saturday and sunday, its b/w 10am to 2pm\n",
    "  2. we can observe that around 11:30 am to 12pm, around 50% of cutomers visit the branch for laon application on all the days except for saturday\n",
    "     where the time is b/w 10am to 11am for both target 0 and 1.\n",
    "  3. loan defualters have applied the laon b/w 9:30 am-10am and 2pm where as the applicants who repay the laon on time have applied for the laon b/w\n",
    "     10 am to 3pm"
   ]
  },
  {
   "cell_type": "markdown",
   "id": "52a35ad5-1dee-4299-8135-ef790dd4c00e",
   "metadata": {},
   "source": [
    "### Bivariate Analysis b/w Age_category vs AMT_CREDIT"
   ]
  },
  {
   "cell_type": "code",
   "execution_count": null,
   "id": "49c91eca-8f17-433e-bacd-fc79e01aa3eb",
   "metadata": {},
   "outputs": [],
   "source": [
    "plt.figure(figsize=(15,10))\n",
    "plt.subplot(1,2,1)\n",
    "sns.boxplot(x=\"Age_Category\", y=\"AMT_CREDIT\",data=tar_0)\n",
    "plt.subplot(1,2,2)\n",
    "sns.boxplot(x=\"Age_Category\", y=\"AMT_CREDIT\",data=tar_1)\n",
    "plt.show()"
   ]
  },
  {
   "cell_type": "markdown",
   "id": "d97a1062-4398-437b-a35c-21805782dff4",
   "metadata": {},
   "source": [
    "- Conclusion:\n",
    "- 1. The applicants b/w age group 25 to 65 have credit amount of the laon less than 2500000 and are not able to repay the loan properly\n",
    "  2. The applicants with less than 100000 credit amount are with age group greater than 65 may be considered as loan defaulters\n",
    "  3. most applicants who have credit amount of loan less than 1700000 are loan defaulters with 25 and less age"
   ]
  },
  {
   "cell_type": "markdown",
   "id": "8bbc0304-266c-4bcc-8371-259f67d68182",
   "metadata": {},
   "source": [
    "#### Pair plot of Amount cols for target 0"
   ]
  },
  {
   "cell_type": "code",
   "execution_count": null,
   "id": "f662059f-b548-4c61-9560-96f3870af988",
   "metadata": {},
   "outputs": [],
   "source": [
    "sns.pairplot(tar_0[['AMT_INCOME_TOTAL','AMT_CREDIT','AMT_ANNUITY','AMT_GOODS_PRICE']])\n",
    "plt.show()"
   ]
  },
  {
   "cell_type": "markdown",
   "id": "a9b8567e-4ec0-4f90-8616-7b49541b3545",
   "metadata": {},
   "source": [
    "- Conclusion: For applicants who are able to repay the loan on time\n",
    "- 1. AMT_CREDIT increases or varies linearity with AMT_GOODS_PRICE and AMT_CREDIT increases with AMT_ANNUITY\n",
    "  2. AMT_ANNUITY increases with  increase in AMT_GOODS_PRICE and AMT_CREDIT\n",
    "  3. AMT_GOODS_PRICE increases with  increase in  AMT_CREDIT and AMT_ANNUITY\n",
    "  4. AMT_INCOME_TOTAL has a drastic increase with slight increase in AMT_CREDIT,AMT_ANNUITY and AMT_GOODS_PRICE"
   ]
  },
  {
   "cell_type": "markdown",
   "id": "299afd3a-568c-45ea-972c-a1189d514034",
   "metadata": {},
   "source": [
    "#### Pair plot of amount cols for target 1"
   ]
  },
  {
   "cell_type": "code",
   "execution_count": null,
   "id": "bde207aa-fe26-4215-9080-9b4b5d616f6c",
   "metadata": {},
   "outputs": [],
   "source": [
    "sns.pairplot(tar_1[['AMT_INCOME_TOTAL','AMT_CREDIT','AMT_ANNUITY','AMT_GOODS_PRICE']])\n",
    "plt.show()"
   ]
  },
  {
   "cell_type": "markdown",
   "id": "ae1f1837-7ca5-4fa1-9a71-525a6514ac61",
   "metadata": {},
   "source": [
    "- Conclusion: For applicants who are able to repay the loan on time\n",
    "- 1. AMT_CREDIT increases or varies linearity with AMT_GOODS_PRICE and AMT_CREDIT increases with AMT_ANNUITY\n",
    "  2. AMT_ANNUITY increases with  increase in AMT_GOODS_PRICE and AMT_CREDIT\n",
    "  3. AMT_GOODS_PRICE increases with  increase in  AMT_CREDIT and AMT_ANNUITY\n",
    "  4. AMT_INCOME_TOTAL has a drastic increase with slight increase in AMT_CREDIT,AMT_ANNUITY and AMT_GOODS_PRICE"
   ]
  },
  {
   "cell_type": "markdown",
   "id": "867be8b5-8a33-4b8a-bff6-b623a4fcd734",
   "metadata": {},
   "source": [
    "#### Correlation b/w numerical cols"
   ]
  },
  {
   "cell_type": "code",
   "execution_count": null,
   "id": "5a9f8e60-2585-4899-bd35-dd3ae32f0e07",
   "metadata": {},
   "outputs": [],
   "source": [
    "corr_data = app_df[[\"AMT_INCOME_TOTAL\",\"AMT_CREDIT\",\"AMT_ANNUITY\",\"AMT_GOODS_PRICE\",'YEARS_BIRTH','YEARS_EMPLOYED','YEARS_REGISTRATION',\n",
    "                    'YEARS_ID_PUBLISH','YEARS_LAST_PHONE_CHANGE']]\n",
    "corr_data.head()"
   ]
  },
  {
   "cell_type": "code",
   "execution_count": null,
   "id": "4284fb7d-5151-4c1b-a0e4-b694d76bcf40",
   "metadata": {},
   "outputs": [],
   "source": [
    "corr_data.corr()"
   ]
  },
  {
   "cell_type": "code",
   "execution_count": null,
   "id": "54a8a087-f697-4795-978d-e1904f8f7c0a",
   "metadata": {},
   "outputs": [],
   "source": [
    "plt.figure(figsize=(10,10))\n",
    "sns.heatmap(corr_data.corr(),annot=True, cmap=\"RdYlGn\")\n",
    "plt.show()"
   ]
  },
  {
   "cell_type": "markdown",
   "id": "86f45009-76f3-4eb9-997c-9c6b2fcb305d",
   "metadata": {},
   "source": [
    "- Conclusion:\n",
    "- 1. AMT_INCOME_TOTAL: It has a -ve correlation index of 0.064 with YEARS_EMPLOYED and +ve correlation index of 0.16,0.19,0.16 with        AMT_CREDIT,AMT_ANNUITY\tand AMT_GOODS_PRICE\n",
    "  2. AMT_CREDIT: It has a -ve correlation index of 0.064 with YEARS_EMPLOYED and +ve correlation index of 0.77 and 0.99 with AMT_ANNUITY and        AMT_GOODS_PRICE\n",
    "  3. AMT_ANNUITY: It has a -ve correlation index of 0.1 with  YEARS_EMPLOYED and  +ve correlation index of 0.77 with AMT_CREDIT\n",
    "  4. AMT_GOODS_PRICE: It has a -ve correlation index of 0.062 with  YEARS_EMPLOYED and  +ve correlation index of  0.77 and 0.99 with AMT_ANNUITY and AMT_CREDIT\n",
    "  5. YEARS_BIRTH:  It has a -ve correlation index with  AMT_INCOME_TOTAL  and AMT_ANNUITY and  +ve correlation index with YEARS_EMPLOYED and AMT_GOODS_PRICE\n",
    "  6. YEARS_EMPLOYED:It has a -ve correlation index of 0.1 with AMT_ANNUITY and  +ve correlation index with YEARS_REGISTRATION and YEARS_ID_PUBLISH\n",
    "  7. YEARS_REGISTRATION: It has a +ve correlation with YEARS_ID_PUBLISH,YEARS_BIRTH,YEARS_EMPLOYED\n",
    "  8. YEARS_ID_PUBLISH: It has a +ve correlation with YEARS_REGISTRATION and -VE correlation with AMT_INCOME_TOTAL,AMT_ANNUITY\n",
    "  9. YEARS_LAST_PHONE_CHANGE: It has a -ve corelation with YEARS_EMPLOYED and +ve correlation with AMT_GOODS_PRICE,YEARS_ID_PUBLISH"
   ]
  },
  {
   "cell_type": "markdown",
   "id": "e8fc1c36-d9f7-4215-b5b6-b510f9ae62e7",
   "metadata": {},
   "source": [
    "#### Split the numerical variables based on target 0 and 1 to find the correlation"
   ]
  },
  {
   "cell_type": "code",
   "execution_count": null,
   "id": "a3fdbfcb-1f47-4e3b-a853-d66a8c3201d8",
   "metadata": {},
   "outputs": [],
   "source": [
    "corr_data_0 = tar_0[[\"AMT_INCOME_TOTAL\",\"AMT_CREDIT\",\"AMT_ANNUITY\",\"AMT_GOODS_PRICE\",'YEARS_BIRTH','YEARS_EMPLOYED','YEARS_REGISTRATION',\n",
    "                    'YEARS_ID_PUBLISH','YEARS_LAST_PHONE_CHANGE']]\n",
    "corr_data_0.head()"
   ]
  },
  {
   "cell_type": "code",
   "execution_count": null,
   "id": "b4fd6fae-6cad-4568-825d-dfb6ec0adc74",
   "metadata": {},
   "outputs": [],
   "source": [
    "corr_data_1 = tar_1[[\"AMT_INCOME_TOTAL\",\"AMT_CREDIT\",\"AMT_ANNUITY\",\"AMT_GOODS_PRICE\",'YEARS_BIRTH','YEARS_EMPLOYED','YEARS_REGISTRATION',\n",
    "                    'YEARS_ID_PUBLISH','YEARS_LAST_PHONE_CHANGE']]\n",
    "corr_data_1.head()"
   ]
  },
  {
   "cell_type": "code",
   "execution_count": null,
   "id": "8c41bec5-215c-4546-8eda-91d9b5dddf55",
   "metadata": {},
   "outputs": [],
   "source": [
    "plt.figure(figsize=(10,10))\n",
    "sns.heatmap(corr_data_0.corr(),annot=True, cmap=\"RdYlGn\")\n",
    "plt.show()"
   ]
  },
  {
   "cell_type": "markdown",
   "id": "7af0b263-9b7d-411a-8393-79a44b2730b8",
   "metadata": {},
   "source": [
    "- Conclusion:\n",
    " 1. AMT_INCOME_TOTAL: It has a +ve correlation index of 0.34,0.42,0.35 with AMT_CREDIT,AMT_ANNUITY,AMT_GOODS_PRICE respectively and negative with most\n",
    "     of the other near cols.\n",
    "  2. AMT_CREDIT: It has a strong +ve correlation index of 0.99,0.77 with AMT_GOODS_PRICE, AMT_ANNUITY.\n",
    "  3. AMT_ANNUITY: It has +ve correlation index of 0.77,0.76 with AMT_CREDIT,AMT_GOODS_PRICE and -ve correlation with most of the other year cols.\n",
    "  4. AMT_GOODS_PRICE:It has a strong +ve correlation index 0.78,0.99 with AMT_ANNUIT,AMT_CREDIT"
   ]
  },
  {
   "cell_type": "code",
   "execution_count": null,
   "id": "beb4440e-f3d1-46fd-87d7-79ab6bce4bb6",
   "metadata": {},
   "outputs": [],
   "source": [
    "plt.figure(figsize=(10,10))\n",
    "sns.heatmap(corr_data_1.corr(),annot=True, cmap=\"RdYlGn\")\n",
    "plt.show()"
   ]
  },
  {
   "cell_type": "markdown",
   "id": "54e468af-9866-4aba-b040-73686e7276ac",
   "metadata": {},
   "source": [
    "- Conclusion:\n",
    " 1. AMT_INCOME_TOTAL: It is less correlated with AMT_CREDIT,AMT_ANNUITY,AMT_GOODS_PRICE respectively\n",
    "  2. AMT_CREDIT: It has a strong +ve correlation index of 0.98,0.75 with AMT_GOODS_PRICE, AMT_ANNUITY and also with other year cols.\n",
    "  3. AMT_ANNUITY: It has +ve correlation index of 0.75  with AMT_CREDIT,AMT_GOODS_PRICE and -ve correlation with YEAR_EMPLOYED,YEAR_REGISTRATION\n",
    "  4. AMT_GOODS_PRICE:It has a strong +ve correlation index 0.75,0.98 with AMT_ANNUIT,AMT_CREDIT and weak +ve correlated with other year cols"
   ]
  },
  {
   "cell_type": "markdown",
   "id": "03b2e12c-d8b2-4334-8fb4-5f36c85a1de1",
   "metadata": {},
   "source": [
    "## Read previous_application.csv"
   ]
  },
  {
   "cell_type": "code",
   "execution_count": null,
   "id": "e230b62e-7ec5-4a25-9853-e9da9d417a9f",
   "metadata": {},
   "outputs": [],
   "source": [
    "papp_data=pd.read_csv(\"previous_application.csv\")\n",
    "papp_data"
   ]
  },
  {
   "cell_type": "code",
   "execution_count": null,
   "id": "79234719-2b18-419c-8a54-3b808e478913",
   "metadata": {},
   "outputs": [],
   "source": [
    "papp_data.info()"
   ]
  },
  {
   "cell_type": "code",
   "execution_count": null,
   "id": "a2d75961-c0c5-4e28-af60-488506d93074",
   "metadata": {},
   "outputs": [],
   "source": [
    "papp_data.shape"
   ]
  },
  {
   "cell_type": "markdown",
   "id": "9150e060-4449-470e-b75d-650711da8233",
   "metadata": {},
   "source": [
    "### Data quality check\n",
    "#### check for percentage null values in previous application dataset"
   ]
  },
  {
   "cell_type": "code",
   "execution_count": null,
   "id": "5f2d78ba-28be-4469-b97d-e6b36dc77492",
   "metadata": {},
   "outputs": [],
   "source": [
    "papp_data.isnull().mean()*100"
   ]
  },
  {
   "cell_type": "code",
   "execution_count": null,
   "id": "00c1104a-fc60-40a8-bfaf-30ca5c6e9198",
   "metadata": {},
   "outputs": [],
   "source": [
    "#values greater than 49% null values may give wrong insights\n",
    "percentage = 49\n",
    "threshold_p =int(((100-percentage)/100)*papp_data.shape[0] * 1)\n",
    "papp_df = papp_data.dropna(axis = 1, thresh = threshold_p)\n",
    "papp_df"
   ]
  },
  {
   "cell_type": "code",
   "execution_count": null,
   "id": "a27995fc-de96-4ae6-9926-8495ba973ecf",
   "metadata": {},
   "outputs": [],
   "source": [
    "print(papp_df['AMT_GOODS_PRICE'].max())\n",
    "print(papp_df['AMT_GOODS_PRICE'].min())"
   ]
  },
  {
   "cell_type": "code",
   "execution_count": null,
   "id": "caeb43f1-48d1-4ecb-9073-fc355a425501",
   "metadata": {},
   "outputs": [],
   "source": [
    "papp_df.shape"
   ]
  },
  {
   "cell_type": "code",
   "execution_count": null,
   "id": "19261dc8-283c-4893-9315-63d6683bb89a",
   "metadata": {},
   "outputs": [],
   "source": [
    "papp_df.isnull().mean() * 100"
   ]
  },
  {
   "cell_type": "markdown",
   "id": "9a20c4f6-7508-4e62-a385-16f4fd78eb7f",
   "metadata": {},
   "source": [
    "### Impute missing values\n",
    "\n",
    "#### check thedtype of missing values in the previous application dataset before imputing"
   ]
  },
  {
   "cell_type": "code",
   "execution_count": null,
   "id": "83275498-5131-460d-be99-7eb25a72095b",
   "metadata": {},
   "outputs": [],
   "source": [
    "papp_df.info()"
   ]
  },
  {
   "cell_type": "code",
   "execution_count": null,
   "id": "3b4313fc-8032-499a-b1b4-cabbbd420a5a",
   "metadata": {},
   "outputs": [],
   "source": [
    "# converting negative values into positive\n",
    "for col in papp_df.columns:\n",
    "    if papp_df[col].dtypes == np.int64 or papp_df[col].dtypes == np.float64:\n",
    "        papp_df[col] = papp_df[col].apply(lambda x:abs(x))"
   ]
  },
  {
   "cell_type": "markdown",
   "id": "d70a3551-68a2-4133-b50a-5e9a5947f01a",
   "metadata": {},
   "source": [
    "#### validate if any null values present in dataset"
   ]
  },
  {
   "cell_type": "code",
   "execution_count": null,
   "id": "1582d0a8-7320-40a7-a260-98bd15c239df",
   "metadata": {},
   "outputs": [],
   "source": [
    "null_cols = list(papp_df.columns[papp_df.isnull().any()])\n",
    "len(null_cols)"
   ]
  },
  {
   "cell_type": "code",
   "execution_count": null,
   "id": "bf879fe6-6674-4e54-a579-f15717ebcf8d",
   "metadata": {},
   "outputs": [],
   "source": [
    "papp_df.isnull().mean()*100"
   ]
  },
  {
   "cell_type": "markdown",
   "id": "902744fb-a68d-4127-addd-7b5343ac499e",
   "metadata": {},
   "source": [
    "#### Binning of continuous variables\n",
    "##### Binning AMT_CREDIT column"
   ]
  },
  {
   "cell_type": "code",
   "execution_count": null,
   "id": "859967ae-82eb-42f0-91f0-9d0e49c6672b",
   "metadata": {},
   "outputs": [],
   "source": [
    "papp_df.AMT_CREDIT.describe()"
   ]
  },
  {
   "cell_type": "code",
   "execution_count": null,
   "id": "ce489f62-c6ed-4e2e-866b-eb941a983689",
   "metadata": {},
   "outputs": [],
   "source": [
    "papp_df['AMT_CREDIT_Category'] = pd.cut(papp_df.AMT_CREDIT,[0,200000,400000,600000,800000,1000000],\n",
    "                                      labels = ['Very low credit','Low credit','Medium credit','High credit','Very high credit'])"
   ]
  },
  {
   "cell_type": "code",
   "execution_count": null,
   "id": "2f0455ee-397e-4774-8918-5f4adf4d4c98",
   "metadata": {},
   "outputs": [],
   "source": [
    "papp_df[\"AMT_CREDIT_Category\"].value_counts(normalize=True)*100"
   ]
  },
  {
   "cell_type": "code",
   "execution_count": null,
   "id": "ad67efa8-c3c9-4e18-95b2-f8e130563d71",
   "metadata": {},
   "outputs": [],
   "source": [
    "papp_df['AMT_CREDIT_Category'].value_counts(normalize=True).plot.bar()\n",
    "plt.show()"
   ]
  },
  {
   "cell_type": "markdown",
   "id": "1b812444-5b80-45bb-848b-67f4a4cdfb43",
   "metadata": {},
   "source": [
    "- Conclusion: The credit amount of loan for most applicants is either low(2L to 4L)"
   ]
  },
  {
   "cell_type": "markdown",
   "id": "40d6e0e6-6efc-4f50-85ff-a2ee6100a5b6",
   "metadata": {},
   "source": [
    "##### Binning AMT_GOODS_PRICE col"
   ]
  },
  {
   "cell_type": "code",
   "execution_count": null,
   "id": "21d83136-e741-4530-b3ac-48a3c3fd92eb",
   "metadata": {},
   "outputs": [],
   "source": [
    "papp_df[\"AMT_GOODS_PRICE_Category\"] = pd.qcut(papp_df.AMT_GOODS_PRICE,q=[0,0.25,0.45,0.64,0.85,1],\n",
    "                                              labels=[\"very low price\",\"low price\",\"medium price\",\"high price\",\"very high price\"],\n",
    "                                             )\n",
    "                                                "
   ]
  },
  {
   "cell_type": "code",
   "execution_count": null,
   "id": "d7b102fc-6578-47a4-8a2c-23704e58597b",
   "metadata": {},
   "outputs": [],
   "source": [
    "papp_df[\"AMT_GOODS_PRICE_Category\"].value_counts(normalize=True)*100"
   ]
  },
  {
   "cell_type": "code",
   "execution_count": null,
   "id": "72b4e902-049b-4209-a0e1-514608a8e707",
   "metadata": {},
   "outputs": [],
   "source": [
    "papp_df['AMT_GOODS_PRICE_Category'].value_counts(normalize=True).plot.pie(autopct='%1.2f%%')\n",
    "plt.show()"
   ]
  },
  {
   "cell_type": "markdown",
   "id": "82c0ebee-e2ad-44cf-861c-45055159131e",
   "metadata": {},
   "source": [
    "#### Data Imbalance check\n",
    "##### Dividing previous application dataset with NAME_CONTRACT_STATUS"
   ]
  },
  {
   "cell_type": "code",
   "execution_count": null,
   "id": "01e3f582-fb8d-4784-b5a2-94055d53efde",
   "metadata": {},
   "outputs": [],
   "source": [
    "approved = papp_df[papp_df.NAME_CONTRACT_STATUS == \"Approved\"]\n",
    "cancelled = papp_df[papp_df.NAME_CONTRACT_STATUS == \"Cancelled\"]\n",
    "refused = papp_df[papp_df.NAME_CONTRACT_STATUS == \"Refused\"]\n",
    "unused = papp_df[papp_df.NAME_CONTRACT_STATUS == \"Unused Offer\"]"
   ]
  },
  {
   "cell_type": "code",
   "execution_count": null,
   "id": "077dbedf-ea8b-4bba-b1e5-f8a6d35352df",
   "metadata": {},
   "outputs": [],
   "source": [
    "papp_df.NAME_CONTRACT_STATUS.value_counts(normalize=True)*100"
   ]
  },
  {
   "cell_type": "code",
   "execution_count": null,
   "id": "5b9678ba-b7c7-41ac-a6ac-364a100f4fd2",
   "metadata": {},
   "outputs": [],
   "source": [
    "papp_df.NAME_CONTRACT_STATUS.value_counts(normalize=True).plot.pie(autopct=\"%1.2f%%\")\n",
    "plt.legend()\n",
    "plt.show()"
   ]
  },
  {
   "cell_type": "markdown",
   "id": "c0aae377-4367-4ce7-acdf-66dcdf7b9564",
   "metadata": {},
   "source": [
    "- Conclusion: 62% of the applicants have the loan approved,19% and 17% are rejected or cancelled and 2% are unused"
   ]
  },
  {
   "cell_type": "markdown",
   "id": "00aa31b9-b547-4e77-9952-fe3e526eddf7",
   "metadata": {},
   "source": [
    "#### UNIVARIATE ANALYSIS"
   ]
  },
  {
   "cell_type": "code",
   "execution_count": null,
   "id": "9b7a62b6-104b-41a6-b040-75219f41dc0e",
   "metadata": {},
   "outputs": [],
   "source": [
    "categorical_cols = list(papp_df.columns[papp_df.dtypes==object])\n",
    "numerical_cols = list(papp_df.columns[papp_df.dtypes==np.int64]) + list(papp_df.columns[papp_df.dtypes==np.float64])"
   ]
  },
  {
   "cell_type": "code",
   "execution_count": null,
   "id": "1ba4d06d-ec3b-4a2b-a5a1-9c0be9d61a35",
   "metadata": {},
   "outputs": [],
   "source": [
    "categorical_cols"
   ]
  },
  {
   "cell_type": "code",
   "execution_count": null,
   "id": "ea7b8460-9e12-4b49-b214-d41ab77203d1",
   "metadata": {},
   "outputs": [],
   "source": [
    "numerical_cols"
   ]
  },
  {
   "cell_type": "code",
   "execution_count": null,
   "id": "d5fc0112-dd56-42b9-a97d-5fd55614c3ad",
   "metadata": {},
   "outputs": [],
   "source": [
    "categorical_cols = ['NAME_CONTRACT_TYPE','WEEKDAY_APPR_PROCESS_START','NAME_CONTRACT_STATUS','NAME_PAYMENT_TYPE','NAME_CLIENT_TYPE','CHANNEL_TYPE',\n",
    "                     'NAME_SELLER_INDUSTRY','NAME_YIELD_GROUP','PRODUCT_COMBINATION']"
   ]
  },
  {
   "cell_type": "code",
   "execution_count": null,
   "id": "ab208ac5-ca32-40fb-afe5-0e88a6ca9a98",
   "metadata": {},
   "outputs": [],
   "source": [
    "numerical_cols = ['HOUR_APPR_PROCESS_START','DAYS_DECISION','AMT_ANNUITY','AMT_APPLICATION','AMT_CREDIT','AMT_GOODS_PRICE','CNT_PAYMENT']"
   ]
  },
  {
   "cell_type": "markdown",
   "id": "f38d210a-3b43-4f68-b33b-9c0f268aeedd",
   "metadata": {},
   "source": [
    "#### Plot on categorical columns"
   ]
  },
  {
   "cell_type": "code",
   "execution_count": null,
   "id": "595a2449-fb3c-426d-9369-42d8eff6d8c5",
   "metadata": {},
   "outputs": [],
   "source": [
    "for col in categorical_cols:\n",
    "    print(papp_df[col].value_counts(normalize=True)*100)\n",
    "    plt.figure(figsize=(5,5))\n",
    "    papp_df[col].value_counts(normalize=True).plot.pie(labeldistance= None,autopct=\"%1.2f%%\")\n",
    "    plt.legend()\n",
    "    plt.show()"
   ]
  },
  {
   "cell_type": "markdown",
   "id": "7450e43b-0656-4865-b531-13944084e21f",
   "metadata": {},
   "source": [
    "- Conclusion >> Insights on below cols\n",
    "  1. NAME_CONTRACT_TYPE : 45% applicants received cash loans, 43% received consumer loans, 12% received revolving loans during previous application\n",
    "  2. WEEKDAY_APPR_PROCESS_START:All the days have almost equal no.of applications\n",
    "  3. NAME_CONTRACT_STATUS : 62% of the applicantions are approved, 19% cancelled, 17% refused and 2% unused\n",
    "  4. NAME_PAYMENT_TYPE: 62% of payment types are cash through bank and 38% other sources.\n",
    "  5. NAME_CLIENT_TYPE: 74% of the applicants are repeaters, 18% are new applicants and 8% are refreshed.\n",
    "  6. CHANNEL_TYPE :43% channel type is credit and cash offices, 29% are country wide\n",
    "  7. NAME_SELLER_INDUSTRY: 51% are from other industries, 24% from consumer electronics, 17% from connectivity\n",
    "  8. NAME_YIELD_GROUP: majority are others\n",
    "  9. PRODUCT_COMBINATION: most used product combination is cash, then POS household with interest and POS mobile with interest"
   ]
  },
  {
   "cell_type": "markdown",
   "id": "064de737-f388-4c01-b90a-e5624e7b63b8",
   "metadata": {},
   "source": [
    "#### plot on numerical cols:"
   ]
  },
  {
   "cell_type": "code",
   "execution_count": null,
   "id": "b8568f6c-f341-4584-96c0-189e9cc9e6cc",
   "metadata": {},
   "outputs": [],
   "source": [
    "for col in numerical_cols:\n",
    "    print(\"99th percentile\",np.percentile(papp_df[col],99))\n",
    "    print(papp_df[col].describe())\n",
    "    plt.figure(figsize=(10,6))\n",
    "    sns.boxplot(data=papp_df,x=col)\n",
    "    plt.show()\n",
    "    print(\"---------------------\")"
   ]
  },
  {
   "cell_type": "markdown",
   "id": "c9d9259f-4346-4d17-9036-ff8625c30262",
   "metadata": {},
   "source": [
    "#### Bivariate and multivariate analysis\n",
    "#####  Bivariate Analysis b/w WEEKDAY_APPR_PROCESS_START vs  AMT_APPLICATION"
   ]
  },
  {
   "cell_type": "code",
   "execution_count": null,
   "id": "565ebae1-f666-4a42-ad32-0917d57c6e8c",
   "metadata": {},
   "outputs": [],
   "source": [
    "plt.figure(figsize=(10,6))\n",
    "sns.barplot(x=\"WEEKDAY_APPR_PROCESS_START\", y=\"AMT_APPLICATION\",data=approved)\n",
    "plt.title(\"Plot for approved\")\n",
    "plt.show()"
   ]
  },
  {
   "cell_type": "code",
   "execution_count": null,
   "id": "ee039dc1-fa76-4bc6-aa4e-6f14329dbc4b",
   "metadata": {},
   "outputs": [],
   "source": [
    "plt.figure(figsize=(10,6))\n",
    "sns.barplot(x=\"WEEKDAY_APPR_PROCESS_START\", y=\"AMT_APPLICATION\",data=cancelled)\n",
    "plt.title(\"Plot for cancelled\")\n",
    "plt.show()"
   ]
  },
  {
   "cell_type": "code",
   "execution_count": null,
   "id": "cfbcdad3-4b86-4fbd-902e-a05a3102062a",
   "metadata": {},
   "outputs": [],
   "source": [
    "plt.figure(figsize=(10,6))\n",
    "sns.barplot(x=\"WEEKDAY_APPR_PROCESS_START\", y=\"AMT_APPLICATION\",data=refused)\n",
    "plt.title(\"Plot for refused\")\n",
    "plt.show()"
   ]
  },
  {
   "cell_type": "code",
   "execution_count": null,
   "id": "aca98ed0-efa1-4633-9cfe-2f4befb93d6e",
   "metadata": {},
   "outputs": [],
   "source": [
    "plt.figure(figsize=(10,6))\n",
    "sns.barplot(x=\"WEEKDAY_APPR_PROCESS_START\", y=\"AMT_APPLICATION\",data=unused)\n",
    "plt.title(\"Plot for unused\")\n",
    "plt.show()"
   ]
  },
  {
   "cell_type": "markdown",
   "id": "f0df07f8-9f1c-4d8d-b93e-00a1842642d5",
   "metadata": {},
   "source": [
    "#### Bivariate anlaysis b/w AMT_ANNUITY vs AMT_GOODS_PRICE"
   ]
  },
  {
   "cell_type": "code",
   "execution_count": null,
   "id": "8b8814d9-1a01-4f60-9416-e632196283d7",
   "metadata": {},
   "outputs": [],
   "source": [
    "plt.figure(figsize=(15,10))\n",
    "plt.subplot(1,4,1)\n",
    "plt.title(\"Approved\")\n",
    "sns.scatterplot(x=\"AMT_ANNUITY\", y=\"AMT_GOODS_PRICE\",data=approved)\n",
    "plt.subplot(1,4,2)\n",
    "plt.title(\"Cancelled\")\n",
    "sns.scatterplot(x=\"AMT_ANNUITY\", y=\"AMT_GOODS_PRICE\",data=cancelled)\n",
    "plt.subplot(1,4,3)\n",
    "plt.title(\"Refused\")\n",
    "sns.scatterplot(x=\"AMT_ANNUITY\", y=\"AMT_GOODS_PRICE\",data=refused)\n",
    "plt.subplot(1,4,4)\n",
    "plt.title(\"unused\")\n",
    "sns.scatterplot(x=\"AMT_ANNUITY\", y=\"AMT_GOODS_PRICE\",data=unused)\n",
    "plt.show()"
   ]
  },
  {
   "cell_type": "markdown",
   "id": "5e8c3a74-96ec-4df7-9659-19a47264c33d",
   "metadata": {},
   "source": [
    "#### Correlation b/w numerical cols"
   ]
  },
  {
   "cell_type": "code",
   "execution_count": null,
   "id": "25118164-0164-4d5f-bb51-1910c5921ab1",
   "metadata": {},
   "outputs": [],
   "source": [
    "corr_approved=approved[['DAYS_DECISION','AMT_ANNUITY','AMT_APPLICATION','AMT_CREDIT','AMT_GOODS_PRICE','CNT_PAYMENT']]\n",
    "corr_refused=refused[['DAYS_DECISION','AMT_ANNUITY','AMT_APPLICATION','AMT_CREDIT','AMT_GOODS_PRICE','CNT_PAYMENT']]\n",
    "corr_cancelled=cancelled[['DAYS_DECISION','AMT_ANNUITY','AMT_APPLICATION','AMT_CREDIT','AMT_GOODS_PRICE','CNT_PAYMENT']]\n",
    "corr_unused=unused[['DAYS_DECISION','AMT_ANNUITY','AMT_APPLICATION','AMT_CREDIT','AMT_GOODS_PRICE','CNT_PAYMENT']]\n"
   ]
  },
  {
   "cell_type": "markdown",
   "id": "14b33504-77fe-4bec-8a79-5140256e3468",
   "metadata": {},
   "source": [
    "#### correlation for numerical cols for approved"
   ]
  },
  {
   "cell_type": "code",
   "execution_count": null,
   "id": "532dff78-a461-4bbf-a025-30b93faee117",
   "metadata": {},
   "outputs": [],
   "source": [
    "plt.figure(figsize=(10,10))\n",
    "sns.heatmap(corr_approved.corr(),annot=True, cmap=\"RdYlGn\")\n",
    "plt.title(\"Approved\")\n",
    "plt.show()"
   ]
  },
  {
   "cell_type": "code",
   "execution_count": null,
   "id": "523dc9f9-b443-4534-8896-f856690cdc48",
   "metadata": {},
   "outputs": [],
   "source": [
    "plt.figure(figsize=(10,10))\n",
    "sns.heatmap(corr_refused.corr(),annot=True, cmap=\"RdYlGn\")\n",
    "plt.title(\"Refused\")\n",
    "plt.show()"
   ]
  },
  {
   "cell_type": "code",
   "execution_count": null,
   "id": "d82df1f5-8dda-4823-ab29-f8f808be2e22",
   "metadata": {},
   "outputs": [],
   "source": [
    "plt.figure(figsize=(10,10))\n",
    "sns.heatmap(corr_cancelled.corr(),annot=True, cmap=\"RdYlGn\")\n",
    "plt.title(\"Cancelled\")\n",
    "plt.show()"
   ]
  },
  {
   "cell_type": "code",
   "execution_count": null,
   "id": "bd65b38f-09a8-45fd-b23d-361a345e05df",
   "metadata": {},
   "outputs": [],
   "source": [
    "plt.figure(figsize=(10,10))\n",
    "sns.heatmap(corr_unused.corr(),annot=True, cmap=\"RdYlGn\")\n",
    "plt.title(\"Unused\")\n",
    "plt.show()"
   ]
  },
  {
   "cell_type": "markdown",
   "id": "c5527f09-68fe-4be3-8940-d121b0fb772f",
   "metadata": {},
   "source": [
    "#### Merge the application and previous application dataframes"
   ]
  },
  {
   "cell_type": "code",
   "execution_count": null,
   "id": "566e105a-2200-4aaa-ab34-43e62842ccd3",
   "metadata": {},
   "outputs": [],
   "source": [
    "merge_df = app_df.merge(papp_df,on=[\"SK_ID_CURR\"],how=\"left\")\n",
    "merge_df.head()"
   ]
  },
  {
   "cell_type": "code",
   "execution_count": null,
   "id": "01dd33d5-1145-4f19-bcdd-ac14c64a4253",
   "metadata": {},
   "outputs": [],
   "source": [
    "merge_df.info()"
   ]
  },
  {
   "cell_type": "markdown",
   "id": "f3f304ea-1567-465e-a9f3-8af886a1877e",
   "metadata": {},
   "source": [
    "#### Filtering required cols for anlaysis"
   ]
  },
  {
   "cell_type": "code",
   "execution_count": null,
   "id": "a80b49f0-c375-477e-ab0c-aec3565ddfdb",
   "metadata": {},
   "outputs": [],
   "source": [
    "for col in merge_df.columns:\n",
    "    if col.startswith(\"FLAG\"):\n",
    "        merge_df.drop(columns=col,axis=1,inplace=True)\n",
    "        "
   ]
  },
  {
   "cell_type": "code",
   "execution_count": null,
   "id": "29253f9a-d585-4e58-b02f-e6709b1a8570",
   "metadata": {},
   "outputs": [],
   "source": [
    "merge_df.shape"
   ]
  },
  {
   "cell_type": "code",
   "execution_count": null,
   "id": "a5cf3687-f103-4938-ba79-53f399852d68",
   "metadata": {},
   "outputs": [],
   "source": [
    "res1= pd.pivot_table(data=merge_df,index=['NAME_INCOME_TYPE','NAME_CLIENT_TYPE'],columns=[\"NAME_CONTRACT_STATUS\"],values=\"TARGET\",aggfunc=\"mean\")\n",
    "res1"
   ]
  },
  {
   "cell_type": "code",
   "execution_count": null,
   "id": "d2b77efc-88e0-4661-b970-4f3413da2d8d",
   "metadata": {},
   "outputs": [],
   "source": [
    "plt.figure(figsize=(10,10))\n",
    "sns.heatmap(res1,annot=True)\n",
    "plt.show()"
   ]
  },
  {
   "cell_type": "code",
   "execution_count": null,
   "id": "a6474acc-4b8e-40a3-a46b-a1d6e95fac68",
   "metadata": {},
   "outputs": [],
   "source": [
    "res2= pd.pivot_table(data=merge_df,index=['CODE_GENDER','NAME_SELLER_INDUSTRY'],columns=[\"TARGET\"],values=\"AMT_GOODS_PRICE\",aggfunc=\"sum\")\n",
    "res2"
   ]
  },
  {
   "cell_type": "code",
   "execution_count": null,
   "id": "a50d88bf-dd2b-4de1-9d9b-5ef1bf07d5cb",
   "metadata": {},
   "outputs": [],
   "source": [
    "plt.figure(figsize=(10,10))\n",
    "sns.heatmap(res2,annot=True)\n",
    "plt.show()"
   ]
  },
  {
   "cell_type": "code",
   "execution_count": null,
   "id": "1183e341-36fb-4d46-961d-69db99d48aca",
   "metadata": {},
   "outputs": [],
   "source": []
  }
 ],
 "metadata": {
  "kernelspec": {
   "display_name": "Python 3 (ipykernel)",
   "language": "python",
   "name": "python3"
  },
  "language_info": {
   "codemirror_mode": {
    "name": "ipython",
    "version": 3
   },
   "file_extension": ".py",
   "mimetype": "text/x-python",
   "name": "python",
   "nbconvert_exporter": "python",
   "pygments_lexer": "ipython3",
   "version": "3.12.2"
  }
 },
 "nbformat": 4,
 "nbformat_minor": 5
}
